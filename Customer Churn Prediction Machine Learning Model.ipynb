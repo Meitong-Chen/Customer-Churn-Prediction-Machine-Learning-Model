{
 "cells": [
  {
   "cell_type": "markdown",
   "metadata": {},
   "source": [
    "# 453_Meitong Chen_Assignment1"
   ]
  },
  {
   "cell_type": "markdown",
   "metadata": {},
   "source": [
    "## Data Preparation"
   ]
  },
  {
   "cell_type": "markdown",
   "metadata": {},
   "source": [
    "### 1. Select data subset for modeling"
   ]
  },
  {
   "cell_type": "code",
   "execution_count": 1,
   "metadata": {},
   "outputs": [],
   "source": [
    "# import necessary libraries\n",
    "import pandas as pd\n",
    "import numpy as np\n",
    "import matplotlib.pyplot as plt\n",
    "import seaborn as sns\n",
    "import statsmodels.api as sm\n",
    "import statsmodels.formula.api as smf\n",
    "from sklearn.preprocessing import LabelEncoder\n",
    "from sklearn.model_selection import train_test_split\n",
    "from sklearn.linear_model import LogisticRegression\n",
    "from sklearn.preprocessing import StandardScaler, OneHotEncoder\n",
    "from sklearn.compose import ColumnTransformer\n",
    "from sklearn.pipeline import Pipeline\n",
    "from sklearn.preprocessing import LabelEncoder\n",
    "from IPython.display import display\n",
    "from sklearn.preprocessing import MinMaxScaler\n",
    "from sklearn.linear_model import LassoCV\n"
   ]
  },
  {
   "cell_type": "code",
   "execution_count": 2,
   "metadata": {},
   "outputs": [
    {
     "data": {
      "text/html": [
       "<div>\n",
       "<style scoped>\n",
       "    .dataframe tbody tr th:only-of-type {\n",
       "        vertical-align: middle;\n",
       "    }\n",
       "\n",
       "    .dataframe tbody tr th {\n",
       "        vertical-align: top;\n",
       "    }\n",
       "\n",
       "    .dataframe thead th {\n",
       "        text-align: right;\n",
       "    }\n",
       "</style>\n",
       "<table border=\"1\" class=\"dataframe\">\n",
       "  <thead>\n",
       "    <tr style=\"text-align: right;\">\n",
       "      <th></th>\n",
       "      <th>RowNumber</th>\n",
       "      <th>CustomerId</th>\n",
       "      <th>Surname</th>\n",
       "      <th>CreditScore</th>\n",
       "      <th>Geography</th>\n",
       "      <th>Gender</th>\n",
       "      <th>Age</th>\n",
       "      <th>Tenure</th>\n",
       "      <th>Balance</th>\n",
       "      <th>NumOfProducts</th>\n",
       "      <th>HasCrCard</th>\n",
       "      <th>IsActiveMember</th>\n",
       "      <th>EstimatedSalary</th>\n",
       "      <th>Exited</th>\n",
       "    </tr>\n",
       "  </thead>\n",
       "  <tbody>\n",
       "    <tr>\n",
       "      <th>0</th>\n",
       "      <td>1</td>\n",
       "      <td>15634602</td>\n",
       "      <td>Hargrave</td>\n",
       "      <td>619</td>\n",
       "      <td>France</td>\n",
       "      <td>Female</td>\n",
       "      <td>42</td>\n",
       "      <td>2</td>\n",
       "      <td>0.00</td>\n",
       "      <td>1</td>\n",
       "      <td>1</td>\n",
       "      <td>1</td>\n",
       "      <td>101348.88</td>\n",
       "      <td>1</td>\n",
       "    </tr>\n",
       "    <tr>\n",
       "      <th>1</th>\n",
       "      <td>2</td>\n",
       "      <td>15647311</td>\n",
       "      <td>Hill</td>\n",
       "      <td>608</td>\n",
       "      <td>Spain</td>\n",
       "      <td>Female</td>\n",
       "      <td>41</td>\n",
       "      <td>1</td>\n",
       "      <td>83807.86</td>\n",
       "      <td>1</td>\n",
       "      <td>0</td>\n",
       "      <td>1</td>\n",
       "      <td>112542.58</td>\n",
       "      <td>0</td>\n",
       "    </tr>\n",
       "    <tr>\n",
       "      <th>2</th>\n",
       "      <td>3</td>\n",
       "      <td>15619304</td>\n",
       "      <td>Onio</td>\n",
       "      <td>502</td>\n",
       "      <td>France</td>\n",
       "      <td>Female</td>\n",
       "      <td>42</td>\n",
       "      <td>8</td>\n",
       "      <td>159660.80</td>\n",
       "      <td>3</td>\n",
       "      <td>1</td>\n",
       "      <td>0</td>\n",
       "      <td>113931.57</td>\n",
       "      <td>1</td>\n",
       "    </tr>\n",
       "    <tr>\n",
       "      <th>3</th>\n",
       "      <td>4</td>\n",
       "      <td>15701354</td>\n",
       "      <td>Boni</td>\n",
       "      <td>699</td>\n",
       "      <td>France</td>\n",
       "      <td>Female</td>\n",
       "      <td>39</td>\n",
       "      <td>1</td>\n",
       "      <td>0.00</td>\n",
       "      <td>2</td>\n",
       "      <td>0</td>\n",
       "      <td>0</td>\n",
       "      <td>93826.63</td>\n",
       "      <td>0</td>\n",
       "    </tr>\n",
       "    <tr>\n",
       "      <th>4</th>\n",
       "      <td>5</td>\n",
       "      <td>15737888</td>\n",
       "      <td>Mitchell</td>\n",
       "      <td>850</td>\n",
       "      <td>Spain</td>\n",
       "      <td>Female</td>\n",
       "      <td>43</td>\n",
       "      <td>2</td>\n",
       "      <td>125510.82</td>\n",
       "      <td>1</td>\n",
       "      <td>1</td>\n",
       "      <td>1</td>\n",
       "      <td>79084.10</td>\n",
       "      <td>0</td>\n",
       "    </tr>\n",
       "  </tbody>\n",
       "</table>\n",
       "</div>"
      ],
      "text/plain": [
       "   RowNumber  CustomerId   Surname  CreditScore Geography  Gender  Age  \\\n",
       "0          1    15634602  Hargrave          619    France  Female   42   \n",
       "1          2    15647311      Hill          608     Spain  Female   41   \n",
       "2          3    15619304      Onio          502    France  Female   42   \n",
       "3          4    15701354      Boni          699    France  Female   39   \n",
       "4          5    15737888  Mitchell          850     Spain  Female   43   \n",
       "\n",
       "   Tenure    Balance  NumOfProducts  HasCrCard  IsActiveMember  \\\n",
       "0       2       0.00              1          1               1   \n",
       "1       1   83807.86              1          0               1   \n",
       "2       8  159660.80              3          1               0   \n",
       "3       1       0.00              2          0               0   \n",
       "4       2  125510.82              1          1               1   \n",
       "\n",
       "   EstimatedSalary  Exited  \n",
       "0        101348.88       1  \n",
       "1        112542.58       0  \n",
       "2        113931.57       1  \n",
       "3         93826.63       0  \n",
       "4         79084.10       0  "
      ]
     },
     "execution_count": 2,
     "metadata": {},
     "output_type": "execute_result"
    }
   ],
   "source": [
    "#load the data \n",
    "data = pd.read_csv(\"C:/Users/win/Desktop/Churn_Modelling.csv\")\n",
    "# overview of the data\n",
    "data.head()"
   ]
  },
  {
   "cell_type": "code",
   "execution_count": 3,
   "metadata": {},
   "outputs": [
    {
     "data": {
      "text/html": [
       "<div>\n",
       "<style scoped>\n",
       "    .dataframe tbody tr th:only-of-type {\n",
       "        vertical-align: middle;\n",
       "    }\n",
       "\n",
       "    .dataframe tbody tr th {\n",
       "        vertical-align: top;\n",
       "    }\n",
       "\n",
       "    .dataframe thead th {\n",
       "        text-align: right;\n",
       "    }\n",
       "</style>\n",
       "<table border=\"1\" class=\"dataframe\">\n",
       "  <thead>\n",
       "    <tr style=\"text-align: right;\">\n",
       "      <th></th>\n",
       "      <th>CreditScore</th>\n",
       "      <th>Geography</th>\n",
       "      <th>Gender</th>\n",
       "      <th>Age</th>\n",
       "      <th>Tenure</th>\n",
       "      <th>Balance</th>\n",
       "      <th>NumOfProducts</th>\n",
       "      <th>HasCrCard</th>\n",
       "      <th>IsActiveMember</th>\n",
       "      <th>EstimatedSalary</th>\n",
       "      <th>Exited</th>\n",
       "    </tr>\n",
       "  </thead>\n",
       "  <tbody>\n",
       "    <tr>\n",
       "      <th>0</th>\n",
       "      <td>619</td>\n",
       "      <td>France</td>\n",
       "      <td>Female</td>\n",
       "      <td>42</td>\n",
       "      <td>2</td>\n",
       "      <td>0.00</td>\n",
       "      <td>1</td>\n",
       "      <td>1</td>\n",
       "      <td>1</td>\n",
       "      <td>101348.88</td>\n",
       "      <td>1</td>\n",
       "    </tr>\n",
       "    <tr>\n",
       "      <th>1</th>\n",
       "      <td>608</td>\n",
       "      <td>Spain</td>\n",
       "      <td>Female</td>\n",
       "      <td>41</td>\n",
       "      <td>1</td>\n",
       "      <td>83807.86</td>\n",
       "      <td>1</td>\n",
       "      <td>0</td>\n",
       "      <td>1</td>\n",
       "      <td>112542.58</td>\n",
       "      <td>0</td>\n",
       "    </tr>\n",
       "    <tr>\n",
       "      <th>2</th>\n",
       "      <td>502</td>\n",
       "      <td>France</td>\n",
       "      <td>Female</td>\n",
       "      <td>42</td>\n",
       "      <td>8</td>\n",
       "      <td>159660.80</td>\n",
       "      <td>3</td>\n",
       "      <td>1</td>\n",
       "      <td>0</td>\n",
       "      <td>113931.57</td>\n",
       "      <td>1</td>\n",
       "    </tr>\n",
       "    <tr>\n",
       "      <th>3</th>\n",
       "      <td>699</td>\n",
       "      <td>France</td>\n",
       "      <td>Female</td>\n",
       "      <td>39</td>\n",
       "      <td>1</td>\n",
       "      <td>0.00</td>\n",
       "      <td>2</td>\n",
       "      <td>0</td>\n",
       "      <td>0</td>\n",
       "      <td>93826.63</td>\n",
       "      <td>0</td>\n",
       "    </tr>\n",
       "    <tr>\n",
       "      <th>4</th>\n",
       "      <td>850</td>\n",
       "      <td>Spain</td>\n",
       "      <td>Female</td>\n",
       "      <td>43</td>\n",
       "      <td>2</td>\n",
       "      <td>125510.82</td>\n",
       "      <td>1</td>\n",
       "      <td>1</td>\n",
       "      <td>1</td>\n",
       "      <td>79084.10</td>\n",
       "      <td>0</td>\n",
       "    </tr>\n",
       "  </tbody>\n",
       "</table>\n",
       "</div>"
      ],
      "text/plain": [
       "   CreditScore Geography  Gender  Age  Tenure    Balance  NumOfProducts  \\\n",
       "0          619    France  Female   42       2       0.00              1   \n",
       "1          608     Spain  Female   41       1   83807.86              1   \n",
       "2          502    France  Female   42       8  159660.80              3   \n",
       "3          699    France  Female   39       1       0.00              2   \n",
       "4          850     Spain  Female   43       2  125510.82              1   \n",
       "\n",
       "   HasCrCard  IsActiveMember  EstimatedSalary  Exited  \n",
       "0          1               1        101348.88       1  \n",
       "1          0               1        112542.58       0  \n",
       "2          1               0        113931.57       1  \n",
       "3          0               0         93826.63       0  \n",
       "4          1               1         79084.10       0  "
      ]
     },
     "execution_count": 3,
     "metadata": {},
     "output_type": "execute_result"
    }
   ],
   "source": [
    "# remove useless columns: rownumber, customerid, surname\n",
    "data = data.drop(columns=['RowNumber', 'CustomerId', 'Surname'])\n",
    "\n",
    "# check again\n",
    "data.head()"
   ]
  },
  {
   "cell_type": "markdown",
   "metadata": {},
   "source": [
    "**Explanation:**\n",
    "\n",
    "I deleted the rownumber, customerid and surname columns, use remain data as selected data subset. Because I will not use the rownumber, customerid and Surname for my later analysis. And use data.head to show few rows of data to check."
   ]
  },
  {
   "cell_type": "markdown",
   "metadata": {},
   "source": [
    "###  2. Clean dataset and apply transformations"
   ]
  },
  {
   "cell_type": "code",
   "execution_count": 4,
   "metadata": {},
   "outputs": [
    {
     "data": {
      "text/plain": [
       "Index(['CreditScore', 'Geography', 'Gender', 'Age', 'Tenure', 'Balance',\n",
       "       'NumOfProducts', 'HasCrCard', 'IsActiveMember', 'EstimatedSalary',\n",
       "       'Exited'],\n",
       "      dtype='object')"
      ]
     },
     "execution_count": 4,
     "metadata": {},
     "output_type": "execute_result"
    }
   ],
   "source": [
    "# columns' names\n",
    "data.columns"
   ]
  },
  {
   "cell_type": "code",
   "execution_count": 5,
   "metadata": {},
   "outputs": [
    {
     "name": "stdout",
     "output_type": "stream",
     "text": [
      "<class 'pandas.core.frame.DataFrame'>\n",
      "RangeIndex: 10000 entries, 0 to 9999\n",
      "Data columns (total 11 columns):\n",
      " #   Column           Non-Null Count  Dtype  \n",
      "---  ------           --------------  -----  \n",
      " 0   CreditScore      10000 non-null  int64  \n",
      " 1   Geography        10000 non-null  object \n",
      " 2   Gender           10000 non-null  object \n",
      " 3   Age              10000 non-null  int64  \n",
      " 4   Tenure           10000 non-null  int64  \n",
      " 5   Balance          10000 non-null  float64\n",
      " 6   NumOfProducts    10000 non-null  int64  \n",
      " 7   HasCrCard        10000 non-null  int64  \n",
      " 8   IsActiveMember   10000 non-null  int64  \n",
      " 9   EstimatedSalary  10000 non-null  float64\n",
      " 10  Exited           10000 non-null  int64  \n",
      "dtypes: float64(2), int64(7), object(2)\n",
      "memory usage: 859.5+ KB\n",
      "None\n"
     ]
    }
   ],
   "source": [
    "# structure and data types of the data\n",
    "print(data.info())\n"
   ]
  },
  {
   "cell_type": "code",
   "execution_count": 6,
   "metadata": {},
   "outputs": [
    {
     "data": {
      "text/plain": [
       "CreditScore        0\n",
       "Geography          0\n",
       "Gender             0\n",
       "Age                0\n",
       "Tenure             0\n",
       "Balance            0\n",
       "NumOfProducts      0\n",
       "HasCrCard          0\n",
       "IsActiveMember     0\n",
       "EstimatedSalary    0\n",
       "Exited             0\n",
       "dtype: int64"
      ]
     },
     "execution_count": 6,
     "metadata": {},
     "output_type": "execute_result"
    }
   ],
   "source": [
    "# calculate how many missing value for each column\n",
    "missing_values = data.isnull().sum()\n",
    "missing_values"
   ]
  },
  {
   "cell_type": "code",
   "execution_count": 7,
   "metadata": {},
   "outputs": [
    {
     "data": {
      "text/plain": [
       "CreditScore          int64\n",
       "Geography           object\n",
       "Gender              object\n",
       "Age                  int64\n",
       "Tenure               int64\n",
       "Balance            float64\n",
       "NumOfProducts        int64\n",
       "HasCrCard            int64\n",
       "IsActiveMember       int64\n",
       "EstimatedSalary    float64\n",
       "Exited               int64\n",
       "dtype: object"
      ]
     },
     "execution_count": 7,
     "metadata": {},
     "output_type": "execute_result"
    }
   ],
   "source": [
    "# chech the types of each column, so that i can decide which column to tranform\n",
    "data_types = data.dtypes\n",
    "data_types"
   ]
  },
  {
   "cell_type": "code",
   "execution_count": 8,
   "metadata": {},
   "outputs": [
    {
     "data": {
      "text/plain": [
       "CreditScore          int64\n",
       "Geography            int32\n",
       "Gender               int32\n",
       "Age                  int64\n",
       "Tenure               int64\n",
       "Balance            float64\n",
       "NumOfProducts        int64\n",
       "HasCrCard            int64\n",
       "IsActiveMember       int64\n",
       "EstimatedSalary    float64\n",
       "Exited               int64\n",
       "dtype: object"
      ]
     },
     "execution_count": 8,
     "metadata": {},
     "output_type": "execute_result"
    }
   ],
   "source": [
    "# the geography and gender are object type, tranform them into integer\n",
    "label_geo = LabelEncoder()\n",
    "label_gen = LabelEncoder()\n",
    "\n",
    "\n",
    "data['Geography'] = label_geo.fit_transform(data['Geography'].astype(str))\n",
    "data['Gender'] = label_gen.fit_transform(data['Gender'].astype(str))\n",
    "\n",
    "# double check\n",
    "new_data_types = data.dtypes\n",
    "new_data_types\n",
    "\n"
   ]
  },
  {
   "cell_type": "code",
   "execution_count": 9,
   "metadata": {},
   "outputs": [
    {
     "data": {
      "text/html": [
       "<div>\n",
       "<style scoped>\n",
       "    .dataframe tbody tr th:only-of-type {\n",
       "        vertical-align: middle;\n",
       "    }\n",
       "\n",
       "    .dataframe tbody tr th {\n",
       "        vertical-align: top;\n",
       "    }\n",
       "\n",
       "    .dataframe thead th {\n",
       "        text-align: right;\n",
       "    }\n",
       "</style>\n",
       "<table border=\"1\" class=\"dataframe\">\n",
       "  <thead>\n",
       "    <tr style=\"text-align: right;\">\n",
       "      <th></th>\n",
       "      <th>CreditScore</th>\n",
       "      <th>Geography</th>\n",
       "      <th>Gender</th>\n",
       "      <th>Age</th>\n",
       "      <th>Tenure</th>\n",
       "      <th>Balance</th>\n",
       "      <th>NumOfProducts</th>\n",
       "      <th>HasCrCard</th>\n",
       "      <th>IsActiveMember</th>\n",
       "      <th>EstimatedSalary</th>\n",
       "      <th>Exited</th>\n",
       "    </tr>\n",
       "  </thead>\n",
       "  <tbody>\n",
       "    <tr>\n",
       "      <th>0</th>\n",
       "      <td>619</td>\n",
       "      <td>0</td>\n",
       "      <td>0</td>\n",
       "      <td>42</td>\n",
       "      <td>2</td>\n",
       "      <td>0.00</td>\n",
       "      <td>1</td>\n",
       "      <td>1</td>\n",
       "      <td>1</td>\n",
       "      <td>101348.88</td>\n",
       "      <td>1</td>\n",
       "    </tr>\n",
       "    <tr>\n",
       "      <th>1</th>\n",
       "      <td>608</td>\n",
       "      <td>2</td>\n",
       "      <td>0</td>\n",
       "      <td>41</td>\n",
       "      <td>1</td>\n",
       "      <td>83807.86</td>\n",
       "      <td>1</td>\n",
       "      <td>0</td>\n",
       "      <td>1</td>\n",
       "      <td>112542.58</td>\n",
       "      <td>0</td>\n",
       "    </tr>\n",
       "    <tr>\n",
       "      <th>2</th>\n",
       "      <td>502</td>\n",
       "      <td>0</td>\n",
       "      <td>0</td>\n",
       "      <td>42</td>\n",
       "      <td>8</td>\n",
       "      <td>159660.80</td>\n",
       "      <td>3</td>\n",
       "      <td>1</td>\n",
       "      <td>0</td>\n",
       "      <td>113931.57</td>\n",
       "      <td>1</td>\n",
       "    </tr>\n",
       "    <tr>\n",
       "      <th>3</th>\n",
       "      <td>699</td>\n",
       "      <td>0</td>\n",
       "      <td>0</td>\n",
       "      <td>39</td>\n",
       "      <td>1</td>\n",
       "      <td>0.00</td>\n",
       "      <td>2</td>\n",
       "      <td>0</td>\n",
       "      <td>0</td>\n",
       "      <td>93826.63</td>\n",
       "      <td>0</td>\n",
       "    </tr>\n",
       "    <tr>\n",
       "      <th>4</th>\n",
       "      <td>850</td>\n",
       "      <td>2</td>\n",
       "      <td>0</td>\n",
       "      <td>43</td>\n",
       "      <td>2</td>\n",
       "      <td>125510.82</td>\n",
       "      <td>1</td>\n",
       "      <td>1</td>\n",
       "      <td>1</td>\n",
       "      <td>79084.10</td>\n",
       "      <td>0</td>\n",
       "    </tr>\n",
       "  </tbody>\n",
       "</table>\n",
       "</div>"
      ],
      "text/plain": [
       "   CreditScore  Geography  Gender  Age  Tenure    Balance  NumOfProducts  \\\n",
       "0          619          0       0   42       2       0.00              1   \n",
       "1          608          2       0   41       1   83807.86              1   \n",
       "2          502          0       0   42       8  159660.80              3   \n",
       "3          699          0       0   39       1       0.00              2   \n",
       "4          850          2       0   43       2  125510.82              1   \n",
       "\n",
       "   HasCrCard  IsActiveMember  EstimatedSalary  Exited  \n",
       "0          1               1        101348.88       1  \n",
       "1          0               1        112542.58       0  \n",
       "2          1               0        113931.57       1  \n",
       "3          0               0         93826.63       0  \n",
       "4          1               1         79084.10       0  "
      ]
     },
     "execution_count": 9,
     "metadata": {},
     "output_type": "execute_result"
    }
   ],
   "source": [
    "data.head()"
   ]
  },
  {
   "cell_type": "code",
   "execution_count": 10,
   "metadata": {},
   "outputs": [
    {
     "data": {
      "text/html": [
       "<div>\n",
       "<style scoped>\n",
       "    .dataframe tbody tr th:only-of-type {\n",
       "        vertical-align: middle;\n",
       "    }\n",
       "\n",
       "    .dataframe tbody tr th {\n",
       "        vertical-align: top;\n",
       "    }\n",
       "\n",
       "    .dataframe thead th {\n",
       "        text-align: right;\n",
       "    }\n",
       "</style>\n",
       "<table border=\"1\" class=\"dataframe\">\n",
       "  <thead>\n",
       "    <tr style=\"text-align: right;\">\n",
       "      <th></th>\n",
       "      <th>Geography</th>\n",
       "      <th>Encoded_Value</th>\n",
       "    </tr>\n",
       "  </thead>\n",
       "  <tbody>\n",
       "    <tr>\n",
       "      <th>0</th>\n",
       "      <td>France</td>\n",
       "      <td>0</td>\n",
       "    </tr>\n",
       "    <tr>\n",
       "      <th>1</th>\n",
       "      <td>Germany</td>\n",
       "      <td>1</td>\n",
       "    </tr>\n",
       "    <tr>\n",
       "      <th>2</th>\n",
       "      <td>Spain</td>\n",
       "      <td>2</td>\n",
       "    </tr>\n",
       "  </tbody>\n",
       "</table>\n",
       "</div>"
      ],
      "text/plain": [
       "  Geography  Encoded_Value\n",
       "0    France              0\n",
       "1   Germany              1\n",
       "2     Spain              2"
      ]
     },
     "metadata": {},
     "output_type": "display_data"
    },
    {
     "data": {
      "text/html": [
       "<div>\n",
       "<style scoped>\n",
       "    .dataframe tbody tr th:only-of-type {\n",
       "        vertical-align: middle;\n",
       "    }\n",
       "\n",
       "    .dataframe tbody tr th {\n",
       "        vertical-align: top;\n",
       "    }\n",
       "\n",
       "    .dataframe thead th {\n",
       "        text-align: right;\n",
       "    }\n",
       "</style>\n",
       "<table border=\"1\" class=\"dataframe\">\n",
       "  <thead>\n",
       "    <tr style=\"text-align: right;\">\n",
       "      <th></th>\n",
       "      <th>Gender</th>\n",
       "      <th>Encoded_Value</th>\n",
       "    </tr>\n",
       "  </thead>\n",
       "  <tbody>\n",
       "    <tr>\n",
       "      <th>0</th>\n",
       "      <td>Female</td>\n",
       "      <td>0</td>\n",
       "    </tr>\n",
       "    <tr>\n",
       "      <th>1</th>\n",
       "      <td>Male</td>\n",
       "      <td>1</td>\n",
       "    </tr>\n",
       "  </tbody>\n",
       "</table>\n",
       "</div>"
      ],
      "text/plain": [
       "   Gender  Encoded_Value\n",
       "0  Female              0\n",
       "1    Male              1"
      ]
     },
     "metadata": {},
     "output_type": "display_data"
    }
   ],
   "source": [
    "# create a mapping of encoded values back to original categories for geography\n",
    "geo = dict(zip(label_geo.classes_, label_geo.transform(label_geo.classes_)))\n",
    "\n",
    "# create a mapping of encoded values back to original categories for gender\n",
    "gen = dict(zip(label_gen.classes_, label_gen.transform(label_gen.classes_)))\n",
    "\n",
    "# tables\n",
    "geo_table = pd.DataFrame(list(geo.items()), columns=['Geography', 'Encoded_Value'])\n",
    "gen_table = pd.DataFrame(list(gen.items()), columns=['Gender', 'Encoded_Value'])\n",
    "\n",
    "display(geo_table)\n",
    "display(gen_table)\n",
    "\n"
   ]
  },
  {
   "cell_type": "code",
   "execution_count": 11,
   "metadata": {},
   "outputs": [
    {
     "data": {
      "text/html": [
       "<div>\n",
       "<style scoped>\n",
       "    .dataframe tbody tr th:only-of-type {\n",
       "        vertical-align: middle;\n",
       "    }\n",
       "\n",
       "    .dataframe tbody tr th {\n",
       "        vertical-align: top;\n",
       "    }\n",
       "\n",
       "    .dataframe thead th {\n",
       "        text-align: right;\n",
       "    }\n",
       "</style>\n",
       "<table border=\"1\" class=\"dataframe\">\n",
       "  <thead>\n",
       "    <tr style=\"text-align: right;\">\n",
       "      <th></th>\n",
       "      <th>CreditScore</th>\n",
       "      <th>Geography</th>\n",
       "      <th>Gender</th>\n",
       "      <th>Age</th>\n",
       "      <th>Tenure</th>\n",
       "      <th>Balance</th>\n",
       "      <th>NumOfProducts</th>\n",
       "      <th>HasCrCard</th>\n",
       "      <th>IsActiveMember</th>\n",
       "      <th>EstimatedSalary</th>\n",
       "      <th>Exited</th>\n",
       "    </tr>\n",
       "  </thead>\n",
       "  <tbody>\n",
       "    <tr>\n",
       "      <th>0</th>\n",
       "      <td>619</td>\n",
       "      <td>0</td>\n",
       "      <td>0</td>\n",
       "      <td>42</td>\n",
       "      <td>2</td>\n",
       "      <td>0.000000</td>\n",
       "      <td>1</td>\n",
       "      <td>1</td>\n",
       "      <td>1</td>\n",
       "      <td>0.506735</td>\n",
       "      <td>1</td>\n",
       "    </tr>\n",
       "    <tr>\n",
       "      <th>1</th>\n",
       "      <td>608</td>\n",
       "      <td>2</td>\n",
       "      <td>0</td>\n",
       "      <td>41</td>\n",
       "      <td>1</td>\n",
       "      <td>0.334031</td>\n",
       "      <td>1</td>\n",
       "      <td>0</td>\n",
       "      <td>1</td>\n",
       "      <td>0.562709</td>\n",
       "      <td>0</td>\n",
       "    </tr>\n",
       "    <tr>\n",
       "      <th>2</th>\n",
       "      <td>502</td>\n",
       "      <td>0</td>\n",
       "      <td>0</td>\n",
       "      <td>42</td>\n",
       "      <td>8</td>\n",
       "      <td>0.636357</td>\n",
       "      <td>3</td>\n",
       "      <td>1</td>\n",
       "      <td>0</td>\n",
       "      <td>0.569654</td>\n",
       "      <td>1</td>\n",
       "    </tr>\n",
       "    <tr>\n",
       "      <th>3</th>\n",
       "      <td>699</td>\n",
       "      <td>0</td>\n",
       "      <td>0</td>\n",
       "      <td>39</td>\n",
       "      <td>1</td>\n",
       "      <td>0.000000</td>\n",
       "      <td>2</td>\n",
       "      <td>0</td>\n",
       "      <td>0</td>\n",
       "      <td>0.469120</td>\n",
       "      <td>0</td>\n",
       "    </tr>\n",
       "    <tr>\n",
       "      <th>4</th>\n",
       "      <td>850</td>\n",
       "      <td>2</td>\n",
       "      <td>0</td>\n",
       "      <td>43</td>\n",
       "      <td>2</td>\n",
       "      <td>0.500246</td>\n",
       "      <td>1</td>\n",
       "      <td>1</td>\n",
       "      <td>1</td>\n",
       "      <td>0.395400</td>\n",
       "      <td>0</td>\n",
       "    </tr>\n",
       "  </tbody>\n",
       "</table>\n",
       "</div>"
      ],
      "text/plain": [
       "   CreditScore  Geography  Gender  Age  Tenure   Balance  NumOfProducts  \\\n",
       "0          619          0       0   42       2  0.000000              1   \n",
       "1          608          2       0   41       1  0.334031              1   \n",
       "2          502          0       0   42       8  0.636357              3   \n",
       "3          699          0       0   39       1  0.000000              2   \n",
       "4          850          2       0   43       2  0.500246              1   \n",
       "\n",
       "   HasCrCard  IsActiveMember  EstimatedSalary  Exited  \n",
       "0          1               1         0.506735       1  \n",
       "1          0               1         0.562709       0  \n",
       "2          1               0         0.569654       1  \n",
       "3          0               0         0.469120       0  \n",
       "4          1               1         0.395400       0  "
      ]
     },
     "execution_count": 11,
     "metadata": {},
     "output_type": "execute_result"
    }
   ],
   "source": [
    "# use minmax method to scale data\n",
    "scaler = MinMaxScaler()\n",
    "\n",
    "# scale balance and estimated salary\n",
    "data_clean = scaler.fit_transform(data[['Balance', 'EstimatedSalary']])\n",
    "new_balance_estsalary = pd.DataFrame(data_clean, columns=['Balance_Scaled', 'EstimatedSalary_Scaled'])\n",
    "new_balance_estsalary\n",
    "\n",
    "# replace\n",
    "data['Balance'] = new_balance_estsalary['Balance_Scaled']\n",
    "data['EstimatedSalary'] = new_balance_estsalary['EstimatedSalary_Scaled']\n",
    "\n",
    "# check\n",
    "data.head()"
   ]
  },
  {
   "cell_type": "markdown",
   "metadata": {},
   "source": [
    "**Explanation:**\n",
    "\n",
    "I checked the number of missing value for each column, and there was no missing value, so do not need to deal with them. Then I checked the data type for each column, tranform the Geography and Gender from object to integer. Also, formed the tables showed which integer value corresponds to each category for the Geography and Gender columns after label encoding. Finally, used minmax method to scale Balance and EstimatedSalary. These scaled values now lie within the range of 0 to 1, making them suitable for use in algorithms that are sensitive to the scale of data. "
   ]
  },
  {
   "cell_type": "markdown",
   "metadata": {},
   "source": [
    "###  3. Perform feature engineering & feature selection"
   ]
  },
  {
   "cell_type": "code",
   "execution_count": 12,
   "metadata": {},
   "outputs": [
    {
     "name": "stdout",
     "output_type": "stream",
     "text": [
      "        CreditScore     Geography        Gender           Age        Tenure  \\\n",
      "count  10000.000000  10000.000000  10000.000000  10000.000000  10000.000000   \n",
      "mean     650.528800      0.746300      0.545700     38.921800      5.012800   \n",
      "std       96.653299      0.827529      0.497932     10.487806      2.892174   \n",
      "min      350.000000      0.000000      0.000000     18.000000      0.000000   \n",
      "25%      584.000000      0.000000      0.000000     32.000000      3.000000   \n",
      "50%      652.000000      0.000000      1.000000     37.000000      5.000000   \n",
      "75%      718.000000      1.000000      1.000000     44.000000      7.000000   \n",
      "max      850.000000      2.000000      1.000000     92.000000     10.000000   \n",
      "\n",
      "            Balance  NumOfProducts    HasCrCard  IsActiveMember  \\\n",
      "count  10000.000000   10000.000000  10000.00000    10000.000000   \n",
      "mean       0.304848       1.530200      0.70550        0.515100   \n",
      "std        0.248696       0.581654      0.45584        0.499797   \n",
      "min        0.000000       1.000000      0.00000        0.000000   \n",
      "25%        0.000000       1.000000      0.00000        0.000000   \n",
      "50%        0.387402       1.000000      1.00000        1.000000   \n",
      "75%        0.508749       2.000000      1.00000        1.000000   \n",
      "max        1.000000       4.000000      1.00000        1.000000   \n",
      "\n",
      "       EstimatedSalary        Exited  \n",
      "count     10000.000000  10000.000000  \n",
      "mean          0.500441      0.203700  \n",
      "std           0.287580      0.402769  \n",
      "min           0.000000      0.000000  \n",
      "25%           0.254977      0.000000  \n",
      "50%           0.500960      0.000000  \n",
      "75%           0.746955      0.000000  \n",
      "max           1.000000      1.000000  \n"
     ]
    }
   ],
   "source": [
    "# summary statistics for the dataset\n",
    "summary_stats = data.describe()\n",
    "print(summary_stats)"
   ]
  },
  {
   "cell_type": "code",
   "execution_count": 13,
   "metadata": {},
   "outputs": [
    {
     "data": {
      "image/png": "[encoded data removed]",
      "text/plain": [
       "<Figure size 720x288 with 1 Axes>"
      ]
     },
     "metadata": {
      "needs_background": "light"
     },
     "output_type": "display_data"
    },
    {
     "data": {
      "image/png": "[encoded data removed]",
      "text/plain": [
       "<Figure size 720x288 with 1 Axes>"
      ]
     },
     "metadata": {
      "needs_background": "light"
     },
     "output_type": "display_data"
    },
    {
     "data": {
      "image/png": "[encoded data removed]",
      "text/plain": [
       "<Figure size 720x288 with 1 Axes>"
      ]
     },
     "metadata": {
      "needs_background": "light"
     },
     "output_type": "display_data"
    },
    {
     "data": {
      "image/png": "[encoded data removed]",
      "text/plain": [
       "<Figure size 720x288 with 1 Axes>"
      ]
     },
     "metadata": {
      "needs_background": "light"
     },
     "output_type": "display_data"
    },
    {
     "data": {
      "image/png": "[encoded data removed]",
      "text/plain": [
       "<Figure size 720x288 with 1 Axes>"
      ]
     },
     "metadata": {
      "needs_background": "light"
     },
     "output_type": "display_data"
    },
    {
     "data": {
      "image/png": "[encoded data removed]",
      "text/plain": [
       "<Figure size 720x288 with 1 Axes>"
      ]
     },
     "metadata": {
      "needs_background": "light"
     },
     "output_type": "display_data"
    }
   ],
   "source": [
    "# Visual analysis for numeric features\n",
    "numeric_features = ['CreditScore', 'Age', 'Tenure', 'Balance', 'NumOfProducts', 'EstimatedSalary']\n",
    "\n",
    "# hist\n",
    "for feature in numeric_features:\n",
    "    plt.figure(figsize=(10, 4))\n",
    "    sns.distplot(data[feature].dropna(), bins=30, kde=True)  # `dropna()` to remove missing values\n",
    "    plt.title(f'Distribution of {feature}')\n",
    "    plt.xlabel(feature)\n",
    "    plt.ylabel('Frequency')\n",
    "    plt.show()\n"
   ]
  },
  {
   "cell_type": "code",
   "execution_count": 14,
   "metadata": {},
   "outputs": [
    {
     "data": {
      "image/png": "[encoded data removed]",
      "text/plain": [
       "<Figure size 720x288 with 1 Axes>"
      ]
     },
     "metadata": {
      "needs_background": "light"
     },
     "output_type": "display_data"
    },
    {
     "data": {
      "image/png": "[encoded data removed]",
      "text/plain": [
       "<Figure size 720x288 with 1 Axes>"
      ]
     },
     "metadata": {
      "needs_background": "light"
     },
     "output_type": "display_data"
    },
    {
     "data": {
      "image/png": "[encoded data removed]",
      "text/plain": [
       "<Figure size 720x288 with 1 Axes>"
      ]
     },
     "metadata": {
      "needs_background": "light"
     },
     "output_type": "display_data"
    },
    {
     "data": {
      "image/png": "[encoded data removed]",
      "text/plain": [
       "<Figure size 720x288 with 1 Axes>"
      ]
     },
     "metadata": {
      "needs_background": "light"
     },
     "output_type": "display_data"
    },
    {
     "data": {
      "image/png": "[encoded data removed]",
      "text/plain": [
       "<Figure size 720x288 with 1 Axes>"
      ]
     },
     "metadata": {
      "needs_background": "light"
     },
     "output_type": "display_data"
    },
    {
     "data": {
      "image/png": "[encoded data removed]",
      "text/plain": [
       "<Figure size 720x288 with 1 Axes>"
      ]
     },
     "metadata": {
      "needs_background": "light"
     },
     "output_type": "display_data"
    }
   ],
   "source": [
    "# boxplot\n",
    "for feature in numeric_features:\n",
    "    plt.figure(figsize=(10, 4))\n",
    "    sns.boxplot(data[feature])\n",
    "    plt.title(f'Box Plot of {feature}')\n",
    "    plt.xlabel(feature)\n",
    "    plt.show()\n"
   ]
  },
  {
   "cell_type": "code",
   "execution_count": 15,
   "metadata": {},
   "outputs": [
    {
     "data": {
      "image/png": "[encoded data removed]",
      "text/plain": [
       "<Figure size 864x720 with 2 Axes>"
      ]
     },
     "metadata": {
      "needs_background": "light"
     },
     "output_type": "display_data"
    }
   ],
   "source": [
    "# correlations\n",
    "corr = data.corr()\n",
    "\n",
    "# heatmap\n",
    "mask = np.triu(np.ones_like(corr, dtype=bool))\n",
    "plt.figure(figsize=(12, 10))\n",
    "sns.heatmap(corr, mask=mask, cmap='coolwarm', vmax=.3, center=0, square=True, linewidths=.5, cbar_kws={\"shrink\": .5}, annot=True)\n",
    "\n",
    "plt.title('Heatmap of Feature Correlation')\n",
    "plt.show()\n"
   ]
  },
  {
   "cell_type": "markdown",
   "metadata": {},
   "source": [
    "**Explanation:**\n",
    "\n",
    "**Histograms:**\n",
    "\n",
    "(1) Credit Score:\n",
    "The distribution of the credit score seems to be fairly normal with a slight left skew. There is a small spike at the higher end of the scale, around a score of 850.\n",
    "\n",
    "(2) Age:\n",
    "The age distribution is roughly normal but with a right skew, means a younger customer base with fewer older customers.\n",
    "\n",
    "(3) Tenure:\n",
    "Tenure appears to be fairly uniformly distributed. This suggests that customers are spread across different lengths of relationship with the bank.\n",
    "\n",
    "(4) Balance:\n",
    "There is a peak at 0, which might indicate a large number of customers with no balance in their account. The rest of the balance distribution has a slight right skew.\n",
    "\n",
    "(5) NumOfProducts:\n",
    "Most customers seem to have 1 or 2 products with the bank. There's a very small number of customers with 3 or 4 products.\n",
    "\n",
    "(6) EstimatedSalary:\n",
    "The salary distribution looks quite uniform across the range, which is unexpected as salary distributions typically have a right skew.\n"
   ]
  },
  {
   "cell_type": "markdown",
   "metadata": {},
   "source": [
    "**Box Plots:**\n",
    "\n",
    "(1) Credit Score:\n",
    "There are outliers on the lower end of the credit score, which means some customers with significantly lower scores than the rest.\n",
    "\n",
    "(2) Age:\n",
    "There are outliers on the upper end, which means older customers that are fewer in numbers compared to the younger demographic.\n",
    "\n",
    "(3) Tenure:\n",
    "There are no visible outliers in tenure, which means that customers’ lengths of association with the bank don't have extreme variations.\n",
    "\n",
    "(4) Balance:\n",
    "There is no obvious presence of outliers in the balance, but the box plot suggests a wide range of balances among customers, with a median around 0.3-0.4 after scaling.\n",
    "\n",
    "(5) NumOfProducts:\n",
    "There are a few outliers in the number of products, specifically for customers holding more than 2 products.\n",
    "\n",
    "(6) EstimatedSalary:\n",
    "The estimated salary shows no outliers and has a median that is centrally located, reaffirming the uniform distribution observed in the histogram."
   ]
  },
  {
   "cell_type": "markdown",
   "metadata": {},
   "source": [
    "**Heatmap:**\n",
    "\n",
    "(1) Exited vs Age/IsActiveMember: There is a moderately positive correlation between Age and the target variable Exited, indicating that as age increases, the likelihood of a customer exiting increases too. A moderate negative correlation between IsActiveMember and Exited, suggesting that active members are less likely to exit.\n",
    "\n",
    "(2) Exited vs Credit Score: CreditScore seems to have a very weak negative correlation with Exited, indicating that it may not be a strong predictor for customer churn on its own.\n",
    "\n",
    "(3) Exited vs Balance/Products: Balance has a very weak positive correlation with Exited. NumOfProducts has a negative correlation with Exited.\n",
    "\n",
    "(4) Exited vs Geography/Gender: Both Geography and Gender have very weak correlations with Exited.\n",
    "\n",
    "(5) Exited v Salary/HasCrCard: EstimatedSalary shows very little to no correlation with Exited, indicating that salary might not be a decisive factor in customer churn. Similarly, HasCrCard also shows a very weak correlation, suggesting whether a customer has a credit card or not doesn't strongly affect their decision to exit.\n",
    "\n",
    "(6) Inter-feature Correlations: There are no strong correlations between any of the independent variables, which is good from a multicollinearity perspective. It means that each feature provides unique information and there isn't much redundant data."
   ]
  },
  {
   "cell_type": "code",
   "execution_count": 16,
   "metadata": {},
   "outputs": [
    {
     "data": {
      "text/html": [
       "<div>\n",
       "<style scoped>\n",
       "    .dataframe tbody tr th:only-of-type {\n",
       "        vertical-align: middle;\n",
       "    }\n",
       "\n",
       "    .dataframe tbody tr th {\n",
       "        vertical-align: top;\n",
       "    }\n",
       "\n",
       "    .dataframe thead th {\n",
       "        text-align: right;\n",
       "    }\n",
       "</style>\n",
       "<table border=\"1\" class=\"dataframe\">\n",
       "  <thead>\n",
       "    <tr style=\"text-align: right;\">\n",
       "      <th></th>\n",
       "      <th>CreditScore</th>\n",
       "      <th>Geography</th>\n",
       "      <th>Gender</th>\n",
       "      <th>Age</th>\n",
       "      <th>Tenure</th>\n",
       "      <th>Balance</th>\n",
       "      <th>NumOfProducts</th>\n",
       "      <th>IsActiveMember</th>\n",
       "    </tr>\n",
       "  </thead>\n",
       "  <tbody>\n",
       "    <tr>\n",
       "      <th>9254</th>\n",
       "      <td>686</td>\n",
       "      <td>0</td>\n",
       "      <td>1</td>\n",
       "      <td>32</td>\n",
       "      <td>6</td>\n",
       "      <td>0.000000</td>\n",
       "      <td>2</td>\n",
       "      <td>1</td>\n",
       "    </tr>\n",
       "    <tr>\n",
       "      <th>1561</th>\n",
       "      <td>632</td>\n",
       "      <td>1</td>\n",
       "      <td>1</td>\n",
       "      <td>42</td>\n",
       "      <td>4</td>\n",
       "      <td>0.476786</td>\n",
       "      <td>2</td>\n",
       "      <td>1</td>\n",
       "    </tr>\n",
       "    <tr>\n",
       "      <th>1670</th>\n",
       "      <td>559</td>\n",
       "      <td>2</td>\n",
       "      <td>1</td>\n",
       "      <td>24</td>\n",
       "      <td>3</td>\n",
       "      <td>0.457317</td>\n",
       "      <td>1</td>\n",
       "      <td>0</td>\n",
       "    </tr>\n",
       "    <tr>\n",
       "      <th>6087</th>\n",
       "      <td>561</td>\n",
       "      <td>0</td>\n",
       "      <td>0</td>\n",
       "      <td>27</td>\n",
       "      <td>9</td>\n",
       "      <td>0.540606</td>\n",
       "      <td>1</td>\n",
       "      <td>0</td>\n",
       "    </tr>\n",
       "    <tr>\n",
       "      <th>6669</th>\n",
       "      <td>517</td>\n",
       "      <td>0</td>\n",
       "      <td>1</td>\n",
       "      <td>56</td>\n",
       "      <td>9</td>\n",
       "      <td>0.566554</td>\n",
       "      <td>1</td>\n",
       "      <td>0</td>\n",
       "    </tr>\n",
       "    <tr>\n",
       "      <th>...</th>\n",
       "      <td>...</td>\n",
       "      <td>...</td>\n",
       "      <td>...</td>\n",
       "      <td>...</td>\n",
       "      <td>...</td>\n",
       "      <td>...</td>\n",
       "      <td>...</td>\n",
       "      <td>...</td>\n",
       "    </tr>\n",
       "    <tr>\n",
       "      <th>5734</th>\n",
       "      <td>768</td>\n",
       "      <td>0</td>\n",
       "      <td>1</td>\n",
       "      <td>54</td>\n",
       "      <td>8</td>\n",
       "      <td>0.277853</td>\n",
       "      <td>1</td>\n",
       "      <td>1</td>\n",
       "    </tr>\n",
       "    <tr>\n",
       "      <th>5191</th>\n",
       "      <td>682</td>\n",
       "      <td>0</td>\n",
       "      <td>0</td>\n",
       "      <td>58</td>\n",
       "      <td>1</td>\n",
       "      <td>0.000000</td>\n",
       "      <td>1</td>\n",
       "      <td>1</td>\n",
       "    </tr>\n",
       "    <tr>\n",
       "      <th>5390</th>\n",
       "      <td>735</td>\n",
       "      <td>0</td>\n",
       "      <td>0</td>\n",
       "      <td>38</td>\n",
       "      <td>1</td>\n",
       "      <td>0.000000</td>\n",
       "      <td>3</td>\n",
       "      <td>0</td>\n",
       "    </tr>\n",
       "    <tr>\n",
       "      <th>860</th>\n",
       "      <td>667</td>\n",
       "      <td>0</td>\n",
       "      <td>1</td>\n",
       "      <td>43</td>\n",
       "      <td>8</td>\n",
       "      <td>0.758186</td>\n",
       "      <td>1</td>\n",
       "      <td>0</td>\n",
       "    </tr>\n",
       "    <tr>\n",
       "      <th>7270</th>\n",
       "      <td>697</td>\n",
       "      <td>1</td>\n",
       "      <td>1</td>\n",
       "      <td>51</td>\n",
       "      <td>1</td>\n",
       "      <td>0.589523</td>\n",
       "      <td>1</td>\n",
       "      <td>1</td>\n",
       "    </tr>\n",
       "  </tbody>\n",
       "</table>\n",
       "<p>8000 rows × 8 columns</p>\n",
       "</div>"
      ],
      "text/plain": [
       "      CreditScore  Geography  Gender  Age  Tenure   Balance  NumOfProducts  \\\n",
       "9254          686          0       1   32       6  0.000000              2   \n",
       "1561          632          1       1   42       4  0.476786              2   \n",
       "1670          559          2       1   24       3  0.457317              1   \n",
       "6087          561          0       0   27       9  0.540606              1   \n",
       "6669          517          0       1   56       9  0.566554              1   \n",
       "...           ...        ...     ...  ...     ...       ...            ...   \n",
       "5734          768          0       1   54       8  0.277853              1   \n",
       "5191          682          0       0   58       1  0.000000              1   \n",
       "5390          735          0       0   38       1  0.000000              3   \n",
       "860           667          0       1   43       8  0.758186              1   \n",
       "7270          697          1       1   51       1  0.589523              1   \n",
       "\n",
       "      IsActiveMember  \n",
       "9254               1  \n",
       "1561               1  \n",
       "1670               0  \n",
       "6087               0  \n",
       "6669               0  \n",
       "...              ...  \n",
       "5734               1  \n",
       "5191               1  \n",
       "5390               0  \n",
       "860                0  \n",
       "7270               1  \n",
       "\n",
       "[8000 rows x 8 columns]"
      ]
     },
     "execution_count": 16,
     "metadata": {},
     "output_type": "execute_result"
    }
   ],
   "source": [
    "# Define the x and y\n",
    "x = data.drop('Exited', axis=1)\n",
    "y = data['Exited']\n",
    "\n",
    "# split the data into trainset and testset\n",
    "x_train, x_test, y_train, y_test = train_test_split(x, y, test_size=0.2, random_state=42)\n",
    "\n",
    "# use LassoCV model to find the best alpha and coefficients\n",
    "lasso = LassoCV(cv=5, random_state=42).fit(x_train, y_train)\n",
    "\n",
    "# select features with non-zero coefficients\n",
    "selected_features = x.columns[(lasso.coef_ != 0)]\n",
    "\n",
    "# drop the column which not in the selected features\n",
    "x_train_selected = x_train[selected_features]\n",
    "x_test_selected = x_test[selected_features]\n",
    "\n",
    "x_train_selected"
   ]
  },
  {
   "cell_type": "markdown",
   "metadata": {},
   "source": [
    "**Explanation:**\n",
    "\n",
    "I did the feature selection by fitting a Lasso model with cross-validation to the training data. Lasso is a regression analysis method that performs both variable selection and regularization to improve the prediction accuracy and interpretability of the statistical model it produces. Lasso regression is a type of linear regression that adds a regularization penalty to the loss function. The LassoCV function will fit multiple Lasso models on different subsets of the data (train data = 0.8*original data, test data = 0.2*oringinal data), each time with a different value alpha. For each alpha, it computes the cross-validated mean square error (MSE) by averaging the MSEs obtained from each fold. After all models are fit and the MSE for each alpha is calculated, LassoCV selects the alpha that has the smallest cross-validated MSE. "
   ]
  },
  {
   "cell_type": "markdown",
   "metadata": {},
   "source": [
    "## Modeling"
   ]
  },
  {
   "cell_type": "markdown",
   "metadata": {},
   "source": [
    "### 1. Select modeling algorithms and techniques\n"
   ]
  },
  {
   "cell_type": "markdown",
   "metadata": {},
   "source": [
    "**Explanation:**\n",
    "\n",
    "**Selected models:**\n",
    "\n",
    "Logistic Regression: Logistic regression is a linear model that is easy to implement and interpret. It gives you the probability of the target variable being in a certain class, which is useful for business decisions.\n",
    "\n",
    "Support Vector Machine: it can be very effective in high-dimensional spaces, which can be the case if feature engineering leads to a large number of input variables. It can model non-linear boundaries using kernel tricks. ZAlso, it tends to be robust against overfitting, especially in high-dimensional space.\n",
    "\n",
    "Random Forest: It can capture non-linear relationships without needing a transformation of variables, which can be an advantage if relationships between features and target are complex. It combines predictions from multiple decision trees, reducing the risk of overfitting compared to a single decision tree.\n",
    "\n",
    "**Reasons for choose these 3 models:**\n",
    "\n",
    "(1) Diversity: This selection of models covers a range of approaches: logistic regression is a simple linear model, SVM can provide a more complex non-linear decision boundary, and random forest is an ensemble model that doesn't assume linearity at all.\n",
    "\n",
    "(2) Complexity: Logistic regression is the least intense computing, whereas SVM can be quite intense with larger datasets or more features, and Random Forests are somewhere in between, but can handle large datasets efficiently.\n",
    "\n",
    "(3) Predictive power: While logistic regression may not be able to capture complex relationships, both SVMs and random forests are likely to provide more accurate predictions if such complex relationships exist."
   ]
  },
  {
   "cell_type": "markdown",
   "metadata": {},
   "source": [
    "### 2. Apply algorithms and techniques for building models"
   ]
  },
  {
   "cell_type": "markdown",
   "metadata": {},
   "source": [
    "### Logistic regression model"
   ]
  },
  {
   "cell_type": "code",
   "execution_count": 17,
   "metadata": {},
   "outputs": [
    {
     "data": {
      "text/plain": [
       "array([0, 0, 1, ..., 1, 0, 0], dtype=int64)"
      ]
     },
     "execution_count": 17,
     "metadata": {},
     "output_type": "execute_result"
    }
   ],
   "source": [
    "# give logistic regression with a balancing mechanism for class distribution and a high iteration limit\n",
    "model_log = LogisticRegression(random_state=2024, class_weight=\"balanced\", max_iter=3000000)\n",
    "model_log.fit(x_train_selected, y_train)\n",
    "\n",
    "# use the selected trained data to predict the classification on the testing set\n",
    "y_pred_log = model_log.predict(x_test_selected)\n",
    "y_pred_log"
   ]
  },
  {
   "cell_type": "code",
   "execution_count": 18,
   "metadata": {},
   "outputs": [
    {
     "name": "stdout",
     "output_type": "stream",
     "text": [
      "Fitting 5 folds for each of 10 candidates, totalling 50 fits\n"
     ]
    },
    {
     "name": "stderr",
     "output_type": "stream",
     "text": [
      "[Parallel(n_jobs=1)]: Using backend SequentialBackend with 1 concurrent workers.\n"
     ]
    },
    {
     "name": "stdout",
     "output_type": "stream",
     "text": [
      "Best Model Accuracy: 0.7045\n",
      "Best Model Parameters: {'C': 1, 'penalty': 'l2', 'solver': 'liblinear'}\n",
      "Classification Report:\n",
      "               precision    recall  f1-score   support\n",
      "\n",
      "           0       0.90      0.71      0.79      1607\n",
      "           1       0.37      0.68      0.48       393\n",
      "\n",
      "    accuracy                           0.70      2000\n",
      "   macro avg       0.63      0.70      0.64      2000\n",
      "weighted avg       0.80      0.70      0.73      2000\n",
      "\n"
     ]
    },
    {
     "name": "stderr",
     "output_type": "stream",
     "text": [
      "[Parallel(n_jobs=1)]: Done  50 out of  50 | elapsed:    3.5s finished\n"
     ]
    }
   ],
   "source": [
    "from sklearn.linear_model import LogisticRegression\n",
    "from sklearn.model_selection import GridSearchCV\n",
    "from sklearn.metrics import classification_report, accuracy_score\n",
    "\n",
    "\n",
    "# the parameter grid\n",
    "param_grid = {\n",
    "    'C': [0.01, 0.1, 1, 10, 100],  # regularization parameter\n",
    "    'penalty': ['l1', 'l2'],  # norms \n",
    "    'solver': ['liblinear']  # 'liblinear' works well with 'l1' and 'l2'\n",
    "}\n",
    "\n",
    "# Set up the GridSearchCV object\n",
    "grid_search = GridSearchCV(estimator=model_log, param_grid=param_grid, cv=5, scoring='accuracy', verbose=1)\n",
    "\n",
    "# Fit GridSearchCV\n",
    "grid_search.fit(x_train_selected, y_train)\n",
    "\n",
    "# Get the best estimator\n",
    "best_logistic_model = grid_search.best_estimator_\n",
    "\n",
    "# Predict on the testing data using the best found parameters\n",
    "y_pred = best_logistic_model.predict(x_test_selected)\n",
    "\n",
    "# Evaluate the best model\n",
    "accuracy = accuracy_score(y_test, y_pred)\n",
    "print(\"Best Model Accuracy:\", accuracy)\n",
    "print(\"Best Model Parameters:\", grid_search.best_params_)\n",
    "print(\"Classification Report:\\n\", classification_report(y_test, y_pred))\n"
   ]
  },
  {
   "cell_type": "code",
   "execution_count": 19,
   "metadata": {},
   "outputs": [
    {
     "data": {
      "text/plain": [
       "array([0, 0, 0, ..., 0, 0, 0], dtype=int64)"
      ]
     },
     "execution_count": 19,
     "metadata": {},
     "output_type": "execute_result"
    }
   ],
   "source": [
    "from sklearn.linear_model import LogisticRegression\n",
    "\n",
    "# use best hyperparameters from GridSearchCV\n",
    "best_params = {\n",
    "    'C': 1,\n",
    "    'penalty': 'l2',\n",
    "    'solver': 'liblinear'\n",
    "}\n",
    "\n",
    "# initialize the Logistic Regression model with the best parameters\n",
    "model_log_best = LogisticRegression(**best_params, random_state=2024)\n",
    "\n",
    "# predict\n",
    "model_log_best.fit(x_train_selected, y_train)\n",
    "y_pred_log_best = model_log_best.predict(x_test_selected)\n",
    "y_pred_log_best\n"
   ]
  },
  {
   "cell_type": "markdown",
   "metadata": {},
   "source": [
    "### SVM Model"
   ]
  },
  {
   "cell_type": "code",
   "execution_count": 24,
   "metadata": {},
   "outputs": [
    {
     "data": {
      "text/plain": [
       "array([0, 0, 0, ..., 0, 0, 0], dtype=int64)"
      ]
     },
     "execution_count": 24,
     "metadata": {},
     "output_type": "execute_result"
    }
   ],
   "source": [
    "from sklearn.svm import SVC\n",
    "from sklearn.metrics import classification_report, accuracy_score\n",
    "\n",
    "# initial model\n",
    "svm_model = SVC(probability=True, random_state=2024)\n",
    "\n",
    "# fit the model to the training data\n",
    "svm_model.fit(x_train_selected, y_train)\n",
    "\n",
    "# prediction\n",
    "y_pred_svm = svm_model.predict(x_test_selected)\n",
    "y_pred_svm"
   ]
  },
  {
   "cell_type": "code",
   "execution_count": 26,
   "metadata": {},
   "outputs": [
    {
     "name": "stdout",
     "output_type": "stream",
     "text": [
      "Fitting 3 folds for each of 4 candidates, totalling 12 fits\n"
     ]
    },
    {
     "name": "stderr",
     "output_type": "stream",
     "text": [
      "[Parallel(n_jobs=-1)]: Using backend LokyBackend with 8 concurrent workers.\n",
      "[Parallel(n_jobs=-1)]: Done  10 out of  12 | elapsed:  3.5min remaining:   41.9s\n",
      "[Parallel(n_jobs=-1)]: Done  12 out of  12 | elapsed:  3.7min finished\n"
     ]
    },
    {
     "name": "stdout",
     "output_type": "stream",
     "text": [
      "Best parameters found for SVM:\n",
      "{'C': 1, 'kernel': 'linear'}\n"
     ]
    }
   ],
   "source": [
    "from sklearn.model_selection import GridSearchCV\n",
    "\n",
    "# define the parameter grid for SVM\n",
    "param_grid_svm = {\n",
    "    'C': [1, 10],  # two options for C\n",
    "    'kernel': ['rbf', 'linear'], # 2 types for kernel\n",
    "    # removed gamma and restricting kernel to reduce combinations, because I can't run the results with the power of my computer\n",
    "}\n",
    "\n",
    "# initialize\n",
    "grid_search_svm = GridSearchCV(SVC(probability=True, random_state=2024), param_grid_svm, cv=3, scoring='accuracy', verbose=1, n_jobs=-1)\n",
    "\n",
    "# fit gridsearchcv into the training data\n",
    "grid_search_svm.fit(x_train_selected, y_train)\n",
    "\n",
    "# get the best estimator\n",
    "best_svm_model = grid_search_svm.best_estimator_\n",
    "print(\"Best parameters found for SVM:\")\n",
    "print(grid_search_svm.best_params_)\n",
    "\n"
   ]
  },
  {
   "cell_type": "code",
   "execution_count": 41,
   "metadata": {},
   "outputs": [
    {
     "data": {
      "text/plain": [
       "array([0, 0, 1, ..., 0, 0, 0], dtype=int64)"
      ]
     },
     "execution_count": 41,
     "metadata": {},
     "output_type": "execute_result"
    }
   ],
   "source": [
    "# prediction on the test dataset, svm model\n",
    "y_pred_best_svm = best_svm_model.predict(x_test_selected)\n",
    "y_pred_best_svm"
   ]
  },
  {
   "cell_type": "markdown",
   "metadata": {},
   "source": [
    "### Random Forest Model"
   ]
  },
  {
   "cell_type": "code",
   "execution_count": 32,
   "metadata": {},
   "outputs": [
    {
     "data": {
      "text/plain": [
       "array([0, 0, 0, ..., 1, 0, 0], dtype=int64)"
      ]
     },
     "execution_count": 32,
     "metadata": {},
     "output_type": "execute_result"
    }
   ],
   "source": [
    "from sklearn.ensemble import RandomForestClassifier\n",
    "\n",
    "# initialize\n",
    "rf_model = RandomForestClassifier(random_state=42)\n",
    "\n",
    "# fit the model on the training data\n",
    "rf_model.fit(x_train_selected, y_train)\n",
    "\n",
    "# predict\n",
    "y_pred_rf = rf_model.predict(x_test_selected)\n",
    "y_pred_rf"
   ]
  },
  {
   "cell_type": "code",
   "execution_count": 34,
   "metadata": {},
   "outputs": [
    {
     "name": "stdout",
     "output_type": "stream",
     "text": [
      "Fitting 5 folds for each of 16 candidates, totalling 80 fits\n"
     ]
    },
    {
     "name": "stderr",
     "output_type": "stream",
     "text": [
      "[Parallel(n_jobs=1)]: Using backend SequentialBackend with 1 concurrent workers.\n",
      "[Parallel(n_jobs=1)]: Done  80 out of  80 | elapsed:  1.6min finished\n"
     ]
    },
    {
     "name": "stdout",
     "output_type": "stream",
     "text": [
      "Best parameters found for Random Forest:\n",
      "{'max_depth': 20, 'min_samples_leaf': 1, 'min_samples_split': 10, 'n_estimators': 300}\n"
     ]
    }
   ],
   "source": [
    "from sklearn.model_selection import GridSearchCV\n",
    "\n",
    "# define the parameter grid for Random Forest\n",
    "param_grid_rf = {\n",
    "    'n_estimators': [100, 300],  # number of trees in the forest\n",
    "    'max_depth': [10, 20],  # max depth of the tree\n",
    "    'min_samples_split': [2, 10],  # min number of samples required to split an internal node\n",
    "    'min_samples_leaf': [1, 4]  # min number of samples required to be at a leaf node\n",
    "}\n",
    "\n",
    "# initialize the gridsearchcv for rf\n",
    "grid_search_rf = GridSearchCV(RandomForestClassifier(random_state=42), param_grid_rf, cv=5, scoring='accuracy', verbose=1)\n",
    "\n",
    "# fit it to the training data\n",
    "grid_search_rf.fit(x_train_selected, y_train)\n",
    "\n",
    "# best model for rf\n",
    "best_rf_model = grid_search_rf.best_estimator_\n",
    "print(\"Best parameters found for Random Forest:\")\n",
    "print(grid_search_rf.best_params_)\n",
    "\n"
   ]
  },
  {
   "cell_type": "code",
   "execution_count": 36,
   "metadata": {},
   "outputs": [
    {
     "data": {
      "text/plain": [
       "array([0, 0, 0, ..., 1, 0, 0], dtype=int64)"
      ]
     },
     "execution_count": 36,
     "metadata": {},
     "output_type": "execute_result"
    }
   ],
   "source": [
    "# predict on the test data using the best parameters\n",
    "y_pred_best_rf = best_rf_model.predict(x_test_selected)\n",
    "y_pred_best_rf"
   ]
  },
  {
   "cell_type": "markdown",
   "metadata": {},
   "source": [
    "### 3. Assess performance of models \n",
    "### (interpret performance from business impact viewpoint  in model evaluation part 1)"
   ]
  },
  {
   "cell_type": "markdown",
   "metadata": {},
   "source": [
    "### Logistic regression model"
   ]
  },
  {
   "cell_type": "code",
   "execution_count": 20,
   "metadata": {},
   "outputs": [
    {
     "name": "stdout",
     "output_type": "stream",
     "text": [
      "True Positives: 71\n",
      "False Positives: 46\n",
      "True Negatives: 1561\n",
      "False Negatives: 322\n",
      "\n",
      "Precision: 0.6068376068376068\n",
      "Recall: 0.1806615776081425\n"
     ]
    }
   ],
   "source": [
    "from sklearn.metrics import confusion_matrix, precision_score, recall_score\n",
    "\n",
    "# the confusion matrix\n",
    "tn, fp, fn, tp = confusion_matrix(y_test, y_pred_log_best).ravel()\n",
    "\n",
    "# calculate precision and recall\n",
    "precision = tp / (tp + fp)\n",
    "recall = tp / (tp + fn)\n",
    "\n",
    "print(f\"True Positives: {tp}\")\n",
    "print(f\"False Positives: {fp}\")\n",
    "print(f\"True Negatives: {tn}\")\n",
    "print(f\"False Negatives: {fn}\\n\")\n",
    "print(f\"Precision: {precision}\")\n",
    "print(f\"Recall: {recall}\")\n"
   ]
  },
  {
   "cell_type": "code",
   "execution_count": 21,
   "metadata": {},
   "outputs": [
    {
     "name": "stdout",
     "output_type": "stream",
     "text": [
      "                 Predicted Positive  Predicted Negative\n",
      "Actual Positive                  71                 322\n",
      "Actual Negative                  46                1561\n"
     ]
    }
   ],
   "source": [
    "import pandas as pd\n",
    "from sklearn.metrics import confusion_matrix\n",
    "\n",
    "cm = confusion_matrix(y_test, y_pred_log_best)\n",
    "\n",
    "# reordering the confusion matrix to match the provided layout\n",
    "cm_reorder = cm[[1, 0], :]  # reorder the rows\n",
    "cm_reorder = cm_reorder[:, [1, 0]]  # reorder the columns\n",
    "\n",
    "# table\n",
    "conf_matrix_df = pd.DataFrame(\n",
    "    cm_reorder, \n",
    "    index=['Actual Positive', 'Actual Negative'],\n",
    "    columns=['Predicted Positive', 'Predicted Negative']\n",
    ")\n",
    "\n",
    "print(conf_matrix_df)\n"
   ]
  },
  {
   "cell_type": "code",
   "execution_count": 22,
   "metadata": {},
   "outputs": [
    {
     "data": {
      "image/png": "[encoded data removed]",
      "text/plain": [
       "<Figure size 720x576 with 1 Axes>"
      ]
     },
     "metadata": {
      "needs_background": "light"
     },
     "output_type": "display_data"
    },
    {
     "name": "stdout",
     "output_type": "stream",
     "text": [
      "The ROC AUC score is: 0.76\n"
     ]
    }
   ],
   "source": [
    "from sklearn.metrics import roc_auc_score, roc_curve\n",
    "import matplotlib.pyplot as plt\n",
    "\n",
    "# assuming y_test are the true labels and y_probs are the predicted probabilities for the positive class\n",
    "# predict probabilities for the positive outcome only\n",
    "y_probs = model_log_best.predict_proba(x_test_selected)[:, 1]\n",
    "\n",
    "# ROC AUC\n",
    "roc_auc = roc_auc_score(y_test, y_probs)\n",
    "\n",
    "# ROC curve\n",
    "fpr, tpr, thresholds = roc_curve(y_test, y_probs)\n",
    "\n",
    "# plot\n",
    "plt.figure(figsize=(10, 8))\n",
    "plt.plot(fpr, tpr, color='darkorange', lw=2, label=f'ROC curve (area = {roc_auc:.2f})')\n",
    "plt.plot([0, 1], [0, 1], color='navy', lw=2, linestyle='--', label='Random classifier baseline')\n",
    "plt.xlim([0.0, 1.0])\n",
    "plt.ylim([0.0, 1.05])\n",
    "plt.xlabel('False Positive Rate')\n",
    "plt.ylabel('True Positive Rate')\n",
    "plt.title('Receiver Operating Characteristic (ROC) Curve')\n",
    "plt.legend(loc=\"lower right\")\n",
    "plt.show()\n",
    "\n",
    "print(f\"The ROC AUC score is: {roc_auc:.2f}\")\n"
   ]
  },
  {
   "cell_type": "markdown",
   "metadata": {},
   "source": [
    "### SVM"
   ]
  },
  {
   "cell_type": "code",
   "execution_count": 28,
   "metadata": {},
   "outputs": [
    {
     "name": "stdout",
     "output_type": "stream",
     "text": [
      "True Positives: 65\n",
      "False Positives: 35\n",
      "True Negatives: 1572\n",
      "False Negatives: 328\n",
      "\n",
      "Precision: 0.65\n",
      "Recall: 0.16539440203562342\n"
     ]
    }
   ],
   "source": [
    "# the confusion matrix\n",
    "tn, fp, fn, tp = confusion_matrix(y_test, y_pred_best_svm).ravel()\n",
    "\n",
    "# calculate precision and recall\n",
    "precision = tp / (tp + fp)\n",
    "recall = tp / (tp + fn)\n",
    "\n",
    "print(f\"True Positives: {tp}\")\n",
    "print(f\"False Positives: {fp}\")\n",
    "print(f\"True Negatives: {tn}\")\n",
    "print(f\"False Negatives: {fn}\\n\")\n",
    "print(f\"Precision: {precision}\")\n",
    "print(f\"Recall: {recall}\")\n"
   ]
  },
  {
   "cell_type": "code",
   "execution_count": 29,
   "metadata": {},
   "outputs": [
    {
     "name": "stdout",
     "output_type": "stream",
     "text": [
      "                 Predicted Positive  Predicted Negative\n",
      "Actual Positive                  65                 328\n",
      "Actual Negative                  35                1572\n"
     ]
    }
   ],
   "source": [
    "cm = confusion_matrix(y_test, y_pred_best_svm)\n",
    "\n",
    "# reordering the confusion matrix to match the provided layout\n",
    "cm_reorder = cm[[1, 0], :]  # reorder the rows\n",
    "cm_reorder = cm_reorder[:, [1, 0]]  # reorder the columns\n",
    "\n",
    "# table\n",
    "conf_matrix_df = pd.DataFrame(\n",
    "    cm_reorder, \n",
    "    index=['Actual Positive', 'Actual Negative'],\n",
    "    columns=['Predicted Positive', 'Predicted Negative']\n",
    ")\n",
    "\n",
    "print(conf_matrix_df)\n"
   ]
  },
  {
   "cell_type": "code",
   "execution_count": 30,
   "metadata": {},
   "outputs": [
    {
     "data": {
      "image/png": "[encoded data removed]",
      "text/plain": [
       "<Figure size 720x576 with 1 Axes>"
      ]
     },
     "metadata": {
      "needs_background": "light"
     },
     "output_type": "display_data"
    },
    {
     "name": "stdout",
     "output_type": "stream",
     "text": [
      "The ROC AUC score is: 0.73\n"
     ]
    }
   ],
   "source": [
    "# assuming y_test are the true labels and y_probs are the predicted probabilities for the positive class\n",
    "# predict probabilities for the positive outcome only\n",
    "y_probs = best_svm_model.predict_proba(x_test_selected)[:, 1]\n",
    "\n",
    "# ROC AUC\n",
    "roc_auc = roc_auc_score(y_test, y_probs)\n",
    "\n",
    "# ROC curve\n",
    "fpr, tpr, thresholds = roc_curve(y_test, y_probs)\n",
    "\n",
    "# plot\n",
    "plt.figure(figsize=(10, 8))\n",
    "plt.plot(fpr, tpr, color='darkorange', lw=2, label=f'ROC curve (area = {roc_auc:.2f})')\n",
    "plt.plot([0, 1], [0, 1], color='navy', lw=2, linestyle='--', label='Random classifier baseline')\n",
    "plt.xlim([0.0, 1.0])\n",
    "plt.ylim([0.0, 1.05])\n",
    "plt.xlabel('False Positive Rate')\n",
    "plt.ylabel('True Positive Rate')\n",
    "plt.title('Receiver Operating Characteristic (ROC) Curve')\n",
    "plt.legend(loc=\"lower right\")\n",
    "plt.show()\n",
    "\n",
    "print(f\"The ROC AUC score is: {roc_auc:.2f}\")\n"
   ]
  },
  {
   "cell_type": "markdown",
   "metadata": {},
   "source": [
    "### Random Forest"
   ]
  },
  {
   "cell_type": "code",
   "execution_count": 37,
   "metadata": {},
   "outputs": [
    {
     "name": "stdout",
     "output_type": "stream",
     "text": [
      "True Positives: 181\n",
      "False Positives: 50\n",
      "True Negatives: 1557\n",
      "False Negatives: 212\n",
      "\n",
      "Precision: 0.7835497835497836\n",
      "Recall: 0.46055979643765904\n"
     ]
    }
   ],
   "source": [
    "# the confusion matrix\n",
    "tn, fp, fn, tp = confusion_matrix(y_test, y_pred_best_rf).ravel()\n",
    "\n",
    "# calculate precision and recall\n",
    "precision = tp / (tp + fp)\n",
    "recall = tp / (tp + fn)\n",
    "\n",
    "print(f\"True Positives: {tp}\")\n",
    "print(f\"False Positives: {fp}\")\n",
    "print(f\"True Negatives: {tn}\")\n",
    "print(f\"False Negatives: {fn}\\n\")\n",
    "print(f\"Precision: {precision}\")\n",
    "print(f\"Recall: {recall}\")\n"
   ]
  },
  {
   "cell_type": "code",
   "execution_count": 38,
   "metadata": {},
   "outputs": [
    {
     "name": "stdout",
     "output_type": "stream",
     "text": [
      "                 Predicted Positive  Predicted Negative\n",
      "Actual Positive                 181                 212\n",
      "Actual Negative                  50                1557\n"
     ]
    }
   ],
   "source": [
    "cm = confusion_matrix(y_test, y_pred_best_rf)\n",
    "\n",
    "# reordering the confusion matrix to match the provided layout\n",
    "cm_reorder = cm[[1, 0], :]  # reorder the rows\n",
    "cm_reorder = cm_reorder[:, [1, 0]]  # reorder the columns\n",
    "\n",
    "# table\n",
    "conf_matrix_df = pd.DataFrame(\n",
    "    cm_reorder, \n",
    "    index=['Actual Positive', 'Actual Negative'],\n",
    "    columns=['Predicted Positive', 'Predicted Negative']\n",
    ")\n",
    "\n",
    "print(conf_matrix_df)\n"
   ]
  },
  {
   "cell_type": "code",
   "execution_count": 39,
   "metadata": {},
   "outputs": [
    {
     "data": {
      "image/png": "[encoded data removed]",
      "text/plain": [
       "<Figure size 720x576 with 1 Axes>"
      ]
     },
     "metadata": {
      "needs_background": "light"
     },
     "output_type": "display_data"
    },
    {
     "name": "stdout",
     "output_type": "stream",
     "text": [
      "The ROC AUC score is: 0.86\n"
     ]
    }
   ],
   "source": [
    "# assuming y_test are the true labels and y_probs are the predicted probabilities for the positive class\n",
    "# predict probabilities for the positive outcome only\n",
    "y_probs = best_rf_model.predict_proba(x_test_selected)[:, 1]\n",
    "\n",
    "# ROC AUC\n",
    "roc_auc = roc_auc_score(y_test, y_probs)\n",
    "\n",
    "# ROC curve\n",
    "fpr, tpr, thresholds = roc_curve(y_test, y_probs)\n",
    "\n",
    "# plot\n",
    "plt.figure(figsize=(10, 8))\n",
    "plt.plot(fpr, tpr, color='darkorange', lw=2, label=f'ROC curve (area = {roc_auc:.2f})')\n",
    "plt.plot([0, 1], [0, 1], color='navy', lw=2, linestyle='--', label='Random classifier baseline')\n",
    "plt.xlim([0.0, 1.0])\n",
    "plt.ylim([0.0, 1.05])\n",
    "plt.xlabel('False Positive Rate')\n",
    "plt.ylabel('True Positive Rate')\n",
    "plt.title('Receiver Operating Characteristic (ROC) Curve')\n",
    "plt.legend(loc=\"lower right\")\n",
    "plt.show()\n",
    "\n",
    "print(f\"The ROC AUC score is: {roc_auc:.2f}\")\n"
   ]
  },
  {
   "cell_type": "markdown",
   "metadata": {},
   "source": [
    "## Model Evaluation"
   ]
  },
  {
   "cell_type": "markdown",
   "metadata": {},
   "source": [
    "### 1. Evaluate the model against business criteria\n",
    "###  interpret performance from business impact viewpoint (false negatives vs false positives)"
   ]
  },
  {
   "cell_type": "markdown",
   "metadata": {},
   "source": [
    "**For logistic regression model:**\n",
    "\n",
    "True Positives (TP): 71\n",
    "False Positives (FP): 46\n",
    "True Negatives (TN): 1561\n",
    "False Negatives (FN): 322\n",
    "Precision: Approximately 0.61\n",
    "Recall: Approximately 0.18\n",
    "ROC AUC: Approximately 0.76\n",
    "\n",
    "False Negatives (FN): These are customers that the model predicted would not churn, but they actually did. Every false negative represents a lost opportunity for the business to intervene and potentially retain the customer. This can have a significant impact, as the cost of acquiring a new customer is generally much higher than retaining an existing one. With 322 false negatives, the model is missing out on many customers who are at risk of churning. For a business, this might translate into lost revenue and increased marketing expenses to attract new customers.\n",
    "\n",
    "False Positives (FP): These are customers that the model predicted would churn, but they actually did not. False positives lead to unnecessary spending on retention efforts, such as discounts, promotional offers, or personalized attention that might not have been needed. While these costs can add up, they are usually less severe than the cost of losing a customer. In this case, with 46 false positives, the business might be wasting resources on customers who would stay regardless of intervention.\n",
    "\n",
    "Precision: The model has a precision of about 0.61, which means that when the model predicts that a customer will churn, it is correct around 61% of the time. In practical terms, this implies that approximately 39% of the retention efforts, such as special offers or targeted communications, might be allocated to customers who would not have churned anyway.\n",
    "\n",
    "Recall (Sensitivity): With a recall of about 0.18, the model identifies only 18% of all actual churn cases. This is a critical insight, as it implies that 82% of customers who will churn are being missed by the model. For the business, improving recall could be much more valuable than precision if the cost of losing a customer is high.\n",
    "\n",
    "ROC AUC: The ROC AUC score is 0.76, which is considered a fair performance for a predictive model. It indicates that the model is reasonably good at distinguishing between customers who will churn and those who will not. A higher AUC provides confidence in the model's ranking ability — it's likely to assign a higher probability of churning to a randomly chosen actual churner than to a randomly chosen non-churner.\n",
    "\n"
   ]
  },
  {
   "cell_type": "markdown",
   "metadata": {},
   "source": [
    "**For SVM model:**\n",
    "\n",
    "True Positives: 65\n",
    "False Positives: 35\n",
    "True Negatives: 1572\n",
    "False Negatives: 328\n",
    "Precision: 0.65\n",
    "Recall: 0.16539440203562342\n",
    "\n",
    "False Negatives (FN): Each false negative represents a customer who churns without the business's knowledge, leading to a loss of revenue and potentially damaging long-term relationships.The high number of false negatives suggests the SVM model is missing many opportunities to intervene with customers who are at risk of leaving. The business could lose out on the lifetime value these customers would bring if retained.For strategic, this indicates the need for the business to improve the model's sensitivity to churn signals or possibly to invest in additional data or features that could enhance predictive accuracy.\n",
    "\n",
    "False Positives (FP): while less costly than false negatives, represent a misallocation of resources. The business might be spending on retention strategies, like offers or improved service, for customers who are not at risk of churning. The relatively lower number of false positives suggests the SVM model is cautious about predicting churn, leading to more conservative retention efforts. However, it is at the cost of missing many actual churn cases.\n",
    "\n",
    "Precision: This indicates that when the SVM model predicts a customer will churn, it is correct 65% of the time. In a business context, this means that roughly two-thirds of the retention budget is effectively spent on customers who are indeed at risk of churning.\n",
    "\n",
    "Recall: The low recall rate is a significant concern. It means that the model is only identifying about 16.5% of the actual churn cases. For a business, this could indicate that while the retention efforts are somewhat efficiently spent, they are not widespread enough to capture the majority of customers who are likely to churn.\n",
    "\n",
    "ROC AUC: means that the SVM model has a fair ability to differentiate between the churners and non-churners. It's a moderate score and indicates that there's room for improvement in the model's performance."
   ]
  },
  {
   "cell_type": "markdown",
   "metadata": {},
   "source": [
    "**For Random Forest:**\n",
    "\n",
    "True Positives: 181\n",
    "False Positives: 50\n",
    "True Negatives: 1557\n",
    "False Negatives: 212\n",
    "Precision: 0.7835497835497836\n",
    "Recall: 0.46055979643765904\n",
    "\n",
    "False Positives (FP): 50 customers that the model predicted would churn, but they didn’t. Business resources devoted to these customers might be considered inefficiently used. However, this could also result in improved customer satisfaction and loyalty due to the additional attention and offers, which isn't necessarily negative.\n",
    "\n",
    "False Negatives (FN): 212 customers were likely to churn but were not flagged by the model. This is a critical area for business as it represents a direct loss of revenue and the potential cost of acquiring new customers, which is usually higher than retaining existing ones. Minimizing FNs may be a strategic key.\n",
    "\n",
    "Precision: 0.78 of positive identifications that were actually correct. A precision of 0.78 is relatively high, suggesting that the retention strategies will be well-targeted and likely to yield a good return on investment.\n",
    "\n",
    "Recall: A recall of 0.46 means the model identified less than half of all actual churn cases. This suggests a risk of missed opportunities for customer retention. Businesses may need to investigate why these customers were not identified and consider strategies for increasing the recall rate without causing a significant increase in false positives.\n",
    "\n",
    "ROC AUC: An AUC of 0.86 indicates good model performance. However, even with a good AUC, the recall rate means that the model's current threshold might be too careful, and the business may benefit from adjusting it to correctly flag more actual churners."
   ]
  },
  {
   "cell_type": "markdown",
   "metadata": {},
   "source": [
    "### 2. Test the model, if possible, in the real application"
   ]
  },
  {
   "cell_type": "code",
   "execution_count": 23,
   "metadata": {},
   "outputs": [
    {
     "name": "stdout",
     "output_type": "stream",
     "text": [
      "The out-of-sample R-squared is: -0.1654\n"
     ]
    }
   ],
   "source": [
    "from sklearn.metrics import r2_score\n",
    "\n",
    "# out of sample R square of logistic model\n",
    "r_squared_log = r2_score(y_test, y_pred_log_best)\n",
    "\n",
    "print(f\"The out-of-sample R-squared is: {r_squared_log:.4f}\")\n"
   ]
  },
  {
   "cell_type": "code",
   "execution_count": 31,
   "metadata": {},
   "outputs": [
    {
     "name": "stdout",
     "output_type": "stream",
     "text": [
      "The out-of-sample R-squared is: -0.1496\n"
     ]
    }
   ],
   "source": [
    "# out of sample R square of svm model\n",
    "r_squared_svm = r2_score(y_test, y_pred_best_svm)\n",
    "\n",
    "print(f\"The out-of-sample R-squared is: {r_squared_svm:.4f}\")\n"
   ]
  },
  {
   "cell_type": "code",
   "execution_count": 40,
   "metadata": {},
   "outputs": [
    {
     "name": "stdout",
     "output_type": "stream",
     "text": [
      "The out-of-sample R-squared is: 0.1703\n"
     ]
    }
   ],
   "source": [
    "# out of sample R square of random forest model\n",
    "r_squared_rf = r2_score(y_test, y_pred_best_rf)\n",
    "\n",
    "print(f\"The out-of-sample R-squared is: {r_squared_rf:.4f}\")\n"
   ]
  },
  {
   "cell_type": "markdown",
   "metadata": {},
   "source": [
    "Because there is no real data, I splitted the data into train dataset (0.8*orginal data) and test dataset (0.2*orginal data). And use the test set as real data to see the accuracy of the model, use out of sample R squre to compare among models. The OOS R square of random forest is largest (0.1703), which means approximately 17.03% of the variance in the dependent variable (churn) is predictable from the independent variables (the features used in the model)."
   ]
  }
 ],
 "metadata": {
  "kernelspec": {
   "display_name": "Python 3",
   "language": "python",
   "name": "python3"
  },
  "language_info": {
   "codemirror_mode": {
    "name": "ipython",
    "version": 3
   },
   "file_extension": ".py",
   "mimetype": "text/x-python",
   "name": "python",
   "nbconvert_exporter": "python",
   "pygments_lexer": "ipython3",
   "version": "3.8.3"
  }
 },
 "nbformat": 4,
 "nbformat_minor": 4
}
